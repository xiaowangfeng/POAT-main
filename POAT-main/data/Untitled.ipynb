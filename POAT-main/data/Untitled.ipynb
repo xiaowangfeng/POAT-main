{
 "cells": [
  {
   "cell_type": "code",
   "execution_count": 1,
   "id": "e47dc2ad",
   "metadata": {},
   "outputs": [],
   "source": [
    "from ase.io import read\n",
    "import glob\n",
    "import numpy as np\n",
    "import matplotlib.pyplot as plt\n",
    "%matplotlib inline"
   ]
  },
  {
   "cell_type": "code",
   "execution_count": 2,
   "id": "8eb3afb9",
   "metadata": {},
   "outputs": [
    {
     "name": "stderr",
     "output_type": "stream",
     "text": [
      "/Users/moosavi/miniconda3/envs/mlenv/lib/python3.9/site-packages/ase/atoms.py:967: VisibleDeprecationWarning: Use get_global_number_of_atoms() instead\n",
      "  warnings.warn('Use get_global_number_of_atoms() instead',\n"
     ]
    }
   ],
   "source": [
    "sizes=[]\n",
    "vols=[]\n",
    "for name in glob.glob(\"*.cif\"):\n",
    "    a=read(name)\n",
    "    sizes.append(a.get_number_of_atoms())\n",
    "    vols.append(a.get_volume())"
   ]
  },
  {
   "cell_type": "code",
   "execution_count": 3,
   "id": "56785c4a",
   "metadata": {},
   "outputs": [],
   "source": [
    "sizes=np.array(sizes)\n",
    "vols=np.array(vols)"
   ]
  },
  {
   "cell_type": "code",
   "execution_count": 5,
   "id": "c230d316",
   "metadata": {},
   "outputs": [
    {
     "data": {
      "text/plain": [
       "array([ 13,  22,  22,  22,  22,  26,  30,  30,  30,  32,  32,  34,  34,\n",
       "        34,  36,  36,  36,  36,  37,  38,  38,  38,  38,  38,  38,  39,\n",
       "        40,  40,  40,  40,  40,  40,  40,  41,  42,  42,  42,  42,  42,\n",
       "        42,  42,  42,  42,  42,  44,  44,  44,  44,  44,  44,  44,  44,\n",
       "        44,  46,  46,  46,  46,  46,  46,  47,  48,  48,  48,  49,  49,\n",
       "        49,  49,  49,  49,  49,  50,  50,  50,  50,  50,  50,  50,  51,\n",
       "        51,  51,  51,  51,  52,  52,  52,  52,  52,  52,  54,  54,  54,\n",
       "        54,  54,  54,  54,  54,  54,  54,  54,  54,  54,  54,  54,  55,\n",
       "        55,  56,  56,  56,  56,  56,  56,  56,  57,  57,  58,  58,  58,\n",
       "        58,  59,  60,  60,  60,  64,  64,  64,  64,  66,  66,  66,  66,\n",
       "        66,  68,  68,  68,  70,  70,  70,  70,  70,  71,  72,  72,  72,\n",
       "        72,  72,  72,  72,  73,  74,  74,  76,  76,  78,  80,  80,  84,\n",
       "        84,  86,  88,  90,  90,  90,  92,  92,  94,  96,  96,  96,  98,\n",
       "        98,  98, 100, 100, 102, 103, 104, 104, 104, 108, 108, 108, 108,\n",
       "       108, 108, 110, 110, 112, 114, 116, 120, 120, 120, 124, 128, 128,\n",
       "       128, 128, 130, 132, 134, 136, 136, 138, 140, 144, 144, 144, 144,\n",
       "       144, 144, 144, 145, 145, 146, 146, 146, 146, 146, 146, 146, 146,\n",
       "       147, 147, 147, 148, 148, 148, 148, 148, 168, 190, 218, 240])"
      ]
     },
     "execution_count": 5,
     "metadata": {},
     "output_type": "execute_result"
    }
   ],
   "source": [
    "sizes[sizes.argsort()]"
   ]
  },
  {
   "cell_type": "code",
   "execution_count": 31,
   "id": "45e22d72",
   "metadata": {},
   "outputs": [
    {
     "data": {
      "text/plain": [
       "array([  150.35099263,   218.98858077,   227.7446223 ,   250.4176124 ,\n",
       "         264.28528801,   272.38711358,   299.43112595,   353.63400185,\n",
       "         355.62057919,   364.05423564,   383.35733756,   391.99921723,\n",
       "         442.09997152,   445.9754366 ,   450.14670532,   451.58192715,\n",
       "         458.25673118,   477.70417419,   480.659844  ,   490.43568554,\n",
       "         496.47770226,   511.02059264,   512.09057003,   513.16234878,\n",
       "         519.1403236 ,   524.26885559,   525.20012552,   529.78922717,\n",
       "         532.73310321,   535.2530401 ,   537.33959324,   543.32429912,\n",
       "         543.55951392,   557.57755863,   570.35718528,   583.62104186,\n",
       "         592.95343395,   596.31190868,   596.81106842,   606.16257996,\n",
       "         622.14196062,   625.96319483,   626.54707368,   630.23629724,\n",
       "         631.73272055,   636.45132273,   637.99197424,   639.85760351,\n",
       "         649.33869229,   650.16161666,   655.34726854,   658.53324106,\n",
       "         664.82318575,   671.25684909,   672.11535812,   675.84271911,\n",
       "         678.38614164,   682.81606583,   688.83489455,   689.22674584,\n",
       "         692.31773831,   692.52732695,   694.32370994,   697.41499119,\n",
       "         700.77023201,   704.89875353,   705.01394799,   709.88756163,\n",
       "         712.76558477,   719.23602915,   719.70450685,   721.87241436,\n",
       "         722.71249657,   726.24714214,   734.56854496,   735.28279506,\n",
       "         743.34444762,   744.4933767 ,   744.62317007,   746.46946978,\n",
       "         748.50417563,   748.94333258,   755.98571713,   759.82329969,\n",
       "         760.91980947,   761.15724453,   765.13812477,   771.9881445 ,\n",
       "         773.61799618,   777.8004576 ,   787.53501145,   795.88071821,\n",
       "         802.25302783,   804.89211719,   805.56525349,   807.67729666,\n",
       "         808.64631051,   811.10116257,   813.5705235 ,   817.4705907 ,\n",
       "         820.60056525,   835.41822027,   847.3791713 ,   853.38634655,\n",
       "         853.50767757,   854.91709975,   863.66018966,   870.8105216 ,\n",
       "         887.16054505,   905.77515095,   908.03553304,   918.08795288,\n",
       "         932.82285263,   933.91990439,   937.13540937,   937.37990858,\n",
       "         950.05723235,   953.94732807,   957.67552725,   963.69473043,\n",
       "         984.11650907,   988.7839392 ,   991.84177601,   997.36337142,\n",
       "        1002.46894903,  1002.95718533,  1004.39480964,  1004.93254754,\n",
       "        1035.09890947,  1041.13870419,  1106.29605121,  1116.68818255,\n",
       "        1126.89389234,  1139.68594277,  1144.36088254,  1181.06514161,\n",
       "        1195.71602984,  1219.48823446,  1232.70867966,  1249.33995386,\n",
       "        1265.30860161,  1282.40938697,  1298.90443868,  1299.9270778 ,\n",
       "        1302.81376459,  1314.23082037,  1324.16161314,  1325.02919038,\n",
       "        1325.66046205,  1345.01364291,  1345.58751484,  1347.10796659,\n",
       "        1348.52726295,  1351.6310694 ,  1355.04952192,  1359.67599437,\n",
       "        1359.83227327,  1376.14156012,  1394.0735344 ,  1394.14728778,\n",
       "        1401.58890508,  1411.77958464,  1414.03176662,  1432.4983948 ,\n",
       "        1440.11164927,  1483.79096588,  1484.49129268,  1495.4485642 ,\n",
       "        1505.41022989,  1513.15602404,  1525.01069561,  1578.16031849,\n",
       "        1598.63420835,  1602.95935764,  1631.31046336,  1642.02225184,\n",
       "        1642.85200815,  1671.15310287,  1671.36885781,  1689.89706513,\n",
       "        1698.68197789,  1769.92216844,  1775.45536207,  1791.32582384,\n",
       "        1793.50630966,  1796.70966162,  1797.31046096,  1846.10588263,\n",
       "        1873.46393969,  1904.62048355,  1906.95323225,  1912.04592095,\n",
       "        1925.96997146,  1975.79665185,  1983.06260159,  1991.34236778,\n",
       "        2051.28132378,  2066.92066007,  2070.7271867 ,  2091.76982736,\n",
       "        2094.2932321 ,  2109.50810138,  2113.7345841 ,  2126.79386211,\n",
       "        2134.7800743 ,  2177.1382144 ,  2260.11181987,  2322.63430999,\n",
       "        2348.13606793,  2350.19927492,  2388.46901532,  2468.87075027,\n",
       "        2473.09918871,  2503.51957479,  2568.5859945 ,  2582.53100494,\n",
       "        2607.16102172,  2637.14678413,  2643.21133182,  2676.93759326,\n",
       "        2753.4187561 ,  2969.68816129,  2998.72599853,  3307.4535338 ,\n",
       "        3575.57240927,  3770.86023323,  3899.28191487,  4068.08746196,\n",
       "        6254.08524695,  6363.89170663,  6632.01589787,  8430.18348222,\n",
       "       11909.65611803])"
      ]
     },
     "execution_count": 31,
     "metadata": {},
     "output_type": "execute_result"
    }
   ],
   "source": [
    "vols[vols.argsort()]"
   ]
  },
  {
   "cell_type": "code",
   "execution_count": 33,
   "id": "87d81594",
   "metadata": {},
   "outputs": [
    {
     "data": {
      "image/png": "[encoded data removed]",
      "text/plain": [
       "<Figure size 432x288 with 1 Axes>"
      ]
     },
     "metadata": {
      "needs_background": "light"
     },
     "output_type": "display_data"
    }
   ],
   "source": [
    "plt.hist(vols,bins=100,color=\"orange\")\n",
    "plt.vlines(x=9*40.0, ymin=0, ymax=40, linestyles=\"--\", color=\"k\")\n",
    "plt.ylim([0,40])\n",
    "plt.xlabel(r\"Cell Volume ($\\AA^3$)\",fontsize=12)\n",
    "plt.ylabel(r\"#structures\",fontsize=12)\n",
    "plt.savefig(\"volume_structure.pdf\")"
   ]
  },
  {
   "cell_type": "code",
   "execution_count": null,
   "id": "575153dd",
   "metadata": {},
   "outputs": [],
   "source": []
  }
 ],
 "metadata": {
  "kernelspec": {
   "display_name": "Python 3 (ipykernel)",
   "language": "python",
   "name": "python3"
  },
  "language_info": {
   "codemirror_mode": {
    "name": "ipython",
    "version": 3
   },
   "file_extension": ".py",
   "mimetype": "text/x-python",
   "name": "python",
   "nbconvert_exporter": "python",
   "pygments_lexer": "ipython3",
   "version": "3.9.12"
  }
 },
 "nbformat": 4,
 "nbformat_minor": 5
}
